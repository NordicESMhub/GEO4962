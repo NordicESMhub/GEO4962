{
 "cells": [
  {
   "cell_type": "code",
   "execution_count": 7,
   "metadata": {},
   "outputs": [],
   "source": [
    "def load_cmap(cmap_name='batlow', preview=False):\n",
    "    \"\"\"\n",
    "    Load a ScientificColourMaps6 colormap from .txt file.\n",
    "    To reverse the colormap, append a '-' after the colormap name, e.g., 'batlow-'.\n",
    "    More info about ScientificColourMaps: http://www.fabiocrameri.ch/colourmaps.php\n",
    "    \"\"\"\n",
    "    import numpy as np\n",
    "    import matplotlib.pyplot as plt\n",
    "    from matplotlib.colors import LinearSegmentedColormap\n",
    "    \n",
    "    _scm6_dir = 'shared-ns1000k/GEO4962/scripts/ScientificColourMaps6'\n",
    "    \n",
    "    if cmap_name.endswith('-'):\n",
    "        _name = cmap_name.rstrip('-') # remove '-' from colormap name\n",
    "        _file_name = f'{_scm6_dir}/{_name}/{_name}.txt'\n",
    "        _cmap_data = np.flipud(np.loadtxt(_file_name)) # and reverse colormap\n",
    "    else:\n",
    "        _name = cmap_name\n",
    "        _file_name = f'{_scm6_dir}/{_name}/{_name}.txt'\n",
    "        _cmap_data = np.loadtxt(_file_name)\n",
    "\n",
    "    cmap = LinearSegmentedColormap.from_list(cmap_name, _cmap_data)\n",
    "        \n",
    "    if preview==True:\n",
    "        x = np.linspace(0, 100, 100)[None, :]\n",
    "        plt.imshow(x, aspect='auto',cmap=cmap);\n",
    "    \n",
    "    return cmap"
   ]
  }
 ],
 "metadata": {
  "kernelspec": {
   "display_name": "Python 3",
   "language": "python",
   "name": "python3"
  },
  "language_info": {
   "codemirror_mode": {
    "name": "ipython",
    "version": 3
   },
   "file_extension": ".py",
   "mimetype": "text/x-python",
   "name": "python",
   "nbconvert_exporter": "python",
   "pygments_lexer": "ipython3",
   "version": "3.7.3"
  }
 },
 "nbformat": 4,
 "nbformat_minor": 4
}
